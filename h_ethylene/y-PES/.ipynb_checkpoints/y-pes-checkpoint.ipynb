{
 "cells": [
  {
   "cell_type": "code",
   "execution_count": 12,
   "id": "0b12d22d-9620-475a-83ee-79b858e9a49e",
   "metadata": {},
   "outputs": [],
   "source": [
    "import psi4\n",
    "import numpy as np\n",
    "import pandas as pd\n",
    "import matplotlib\n",
    "import matplotlib.pyplot as plt\n",
    "import matplotlib.cm as cm\n",
    "import os\n",
    "matplotlib.use('Qt5Agg')\n",
    "%matplotlib qt5"
   ]
  },
  {
   "cell_type": "code",
   "execution_count": 9,
   "id": "5c43c112-9e63-438d-bd9e-bcfaf76d789a",
   "metadata": {},
   "outputs": [],
   "source": [
    "psi4.set_memory(int(3e9))\n",
    "psi4.set_options({'reference':'RHF',\n",
    "                  'basis':'cc-pvdz'})\n"
   ]
  },
  {
   "cell_type": "code",
   "execution_count": 33,
   "id": "0248317f-4450-46cd-a02d-f783e3605a58",
   "metadata": {},
   "outputs": [
    {
     "name": "stdout",
     "output_type": "stream",
     "text": [
      "0 1 2 3 4 5 6 7 8 9 10 11 12 13 14 15 16 17 18 19 20 21 22 23 24 25 26 27 28 29 30 31 32 33 34 35 36 37 38 39 40 41 42 43 44 45 46 47 48 49 50 51 52 53 54 55 56 57 58 59 60 61 62 63 64 65 66 67 68 69 70 71 72 73 74 75 76 77 78 79 80 81 82 83 84 85 86 87 88 89 90 91 92 93 94 95 96 97 98 99 100 101 102 103 104 105 106 107 108 109 110 111 112 113 114 115 116 117 118 119 120 121 122 123 124 125 126 127 128 129 130 131 132 133 134 135 136 137 138 139 140 141 142 143 144 145 146 147 148 149 150 151 152 153 154 155 156 157 158 159 160 161 162 163 164 165 166 167 168 169 170 171 172 173 174 175 176 177 178 179 180 181 182 183 184 185 186 187 188 189 190 191 192 193 194 195 196 197 198 199 "
     ]
    }
   ],
   "source": [
    "# all virtual orbitals\n",
    "\n",
    "rs = np.linspace(0.2, 10, num=200, endpoint=True)\n",
    "Es = []\n",
    "for i, r in enumerate(rs):\n",
    "    mol=psi4.geometry('''\n",
    "        -1 1\n",
    "        C        -0.6645000000    0.0000000000   -0.2082049804\n",
    "        C         0.6645000000    0.0000000000   -0.2082049804\n",
    "        H        -1.1590800000    0.0000000000    0.7541440196\n",
    "        H         1.1590800000    0.0000000000    0.7541440196\n",
    "        H        -1.1590800000    0.0000000000   -1.1705529804\n",
    "        H         1.1590800000    0.0000000000   -1.1705529804\n",
    "        H7         0.0             '''+str(r)+'''        0.0\n",
    "        ''')\n",
    "    psi4.basis_helper('''\n",
    "        assign H cc-pvdz\n",
    "        assign C cc-pvdz\n",
    "        assign H7 aug-cc-pvdz''')\n",
    "\n",
    "\n",
    "    psi4.core.clean()\n",
    "    E, wfn = psi4.energy('mp2', return_wfn=True)\n",
    "    psi4.core.set_output_file('pes_output', True)\n",
    "    print(i,end=' ')\n",
    "    Es.append(E)"
   ]
  },
  {
   "cell_type": "code",
   "execution_count": 35,
   "id": "0d41ac0c-9322-4063-8c04-e33245247bac",
   "metadata": {},
   "outputs": [],
   "source": [
    "plt.plot(rs,Es,'.')\n",
    "plt.xlabel('angstroms from C=C bond')\n",
    "plt.ylabel('E')\n",
    "plt.show()"
   ]
  },
  {
   "cell_type": "code",
   "execution_count": null,
   "id": "69c68de0-27bb-4f95-8341-33c89a1ad9b1",
   "metadata": {},
   "outputs": [],
   "source": []
  }
 ],
 "metadata": {
  "kernelspec": {
   "display_name": "Python 3 (ipykernel)",
   "language": "python",
   "name": "python3"
  },
  "language_info": {
   "codemirror_mode": {
    "name": "ipython",
    "version": 3
   },
   "file_extension": ".py",
   "mimetype": "text/x-python",
   "name": "python",
   "nbconvert_exporter": "python",
   "pygments_lexer": "ipython3",
   "version": "3.9.7"
  }
 },
 "nbformat": 4,
 "nbformat_minor": 5
}
