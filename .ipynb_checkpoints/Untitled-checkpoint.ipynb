{
 "cells": [
  {
   "cell_type": "code",
   "execution_count": 13,
   "id": "aafc93d6-40fe-4aed-9636-200eb8cb09f8",
   "metadata": {},
   "outputs": [],
   "source": [
    "import matplotlib\n",
    "import matplotlib.pyplot as plt\n",
    "import numpy as np\n",
    "import pandas as pd\n",
    "import os\n",
    "import scipy.stats as stats\n",
    "import math\n",
    "\n",
    "matplotlib.use('Qt5Agg')\n",
    "%matplotlib qt5"
   ]
  },
  {
   "cell_type": "code",
   "execution_count": 55,
   "id": "b75eb7d2-3274-4380-b7a7-e4207d5418dd",
   "metadata": {},
   "outputs": [],
   "source": [
    "mu = 0\n",
    "variance = 1\n",
    "sigma = math.sqrt(variance)\n",
    "\n",
    "alp1 = 1.5\n",
    "alp2 = 0.5\n",
    "x = np.linspace(mu - 3*sigma, mu + 3*sigma, 100)\n",
    "\n",
    "plt.plot(x, stats.norm.pdf(x, mu, sigma))\n",
    "plt.plot(x, stats.norm.pdf(x, mu, sigma*alp1), 'g.')\n",
    "plt.plot(x, stats.norm.pdf(x, mu, sigma*alp2))\n",
    "plt.show()"
   ]
  },
  {
   "cell_type": "code",
   "execution_count": 45,
   "id": "a2ff99d7-e536-44bb-912b-08771d70666e",
   "metadata": {},
   "outputs": [
    {
     "name": "stdout",
     "output_type": "stream",
     "text": [
      "(41, 12)\n",
      "        L         z         0         1         2          3          4  \\\n",
      "0  3.4490  0.538462  0.959159  2.166289  4.157453  11.835197  11.835198   \n",
      "1  2.9388  0.583333  1.033932  2.225502  4.380996  11.965039  11.965041   \n",
      "2  2.5339  0.628205  1.106925  2.278099  4.613451  12.093682  12.093684   \n",
      "3  2.2073  0.673077  1.177868  2.326841  4.851642  12.221278  12.221280   \n",
      "4  1.9400  0.717949  1.246483  2.373717  5.093245  12.347986  12.347988   \n",
      "\n",
      "           5          6          7          8          9  \n",
      "0  11.928725  11.928756  12.001583  12.001685  12.926559  \n",
      "1  12.071106  12.071154  12.130418  12.130519  13.064698  \n",
      "2  12.212307  12.212380  12.253735  12.253832  13.197741  \n",
      "3  12.352280  12.352385  12.372080  12.372167  13.325681  \n",
      "4  12.486179  12.486248  12.490980  12.491131  13.448828  \n",
      "Index(['0', '1', '2', '3', '4', '5', '6', '7', '8', '9'], dtype='object')\n"
     ]
    }
   ],
   "source": [
    "data = pd.read_csv('ethylene/stab_ea/g-3.5-ext-range-DZ/stab_data.csv', delim_whitespace = True)\n",
    "print(np.shape(data))\n",
    "print(data.head())\n",
    "\n",
    "label = 15\n",
    "n=2\n",
    "alps = data['z'].values\n",
    "E_labels=data.columns[2:]\n",
    "plt.figure(figsize=[7.25,12.75])\n",
    "plt.xlabel('alp')\n",
    "plt.ylabel('E')\n",
    "print(E_labels)\n",
    "# plt.plot(alps, data['0'].values, '.')\n",
    "# plt.plot(alps, data['1'].values, '.')\n",
    "plt.scatter(alps[::n],data['0'].values[::n])\n",
    "plt.scatter(alps[::n],data['1'].values[::n])\n",
    "\n",
    "plt.rc('axes', labelsize=label) #fontsize of the x and y labels\n",
    "plt.rc('xtick', labelsize=label) #fontsize of the x tick labels\n",
    "plt.rc('ytick', labelsize=label) #fontsize of the y tick labels\n",
    "#plt.plot(alps, data['3'].values, '.')\n",
    "#lt.ylim(0,7)\n",
    "plt.show()"
   ]
  },
  {
   "cell_type": "code",
   "execution_count": 47,
   "id": "125dc267-7346-4cae-9e8b-a303c92a2999",
   "metadata": {},
   "outputs": [
    {
     "name": "stdout",
     "output_type": "stream",
     "text": [
      "(41, 12)\n",
      "        L         z         0         1         2         3         4  \\\n",
      "0  2.4694  0.636364  1.348699  1.749591  1.930578  2.820829  3.546807   \n",
      "1  2.1704  0.678788  1.410712  1.833634  2.000029  2.903365  3.634412   \n",
      "2  1.9225  0.721212  1.472543  1.915825  2.064399  2.983204  3.713133   \n",
      "3  1.7149  0.763636  1.534401  1.996109  2.124044  3.060031  3.784987   \n",
      "4  1.5391  0.806061  1.596478  2.074415  2.179342  3.133488  3.851631   \n",
      "\n",
      "          5         6         7         8         9  \n",
      "0  3.795749  4.680245  5.507099  5.596592  5.641564  \n",
      "1  3.985649  4.719501  5.544042  5.669577  5.758070  \n",
      "2  4.167909  4.753696  5.576807  5.741452  5.883771  \n",
      "3  4.337214  4.791382  5.605610  5.812443  6.015826  \n",
      "4  4.480365  4.848552  5.630682  5.882656  6.152384  \n"
     ]
    }
   ],
   "source": [
    "data = pd.read_csv('oh_ethylene/stab_ee/optz_DZ+2p+keywords_B2/stab_data.csv', delim_whitespace = True)\n",
    "print(np.shape(data))\n",
    "print(data.head())\n",
    "\n",
    "label = 15\n",
    "n=2\n",
    "alps = data['z'].values\n",
    "E_labels=data.columns[2:]\n",
    "#plt.figure(figsize=[7.25,12.75])\n",
    "plt.xlabel('alp')\n",
    "plt.ylabel('E')\n",
    "#print(E_labels)\n",
    "#plt.plot(alps, data['0'].values, '.')\n",
    "#plt.plot(alps, data['1'].values, '.')\n",
    "# plt.scatter(alps[::n],data['0'].values[::n])\n",
    "# plt.scatter(alps[::n],data['1'].values[::n])\n",
    "for E in E_labels:\n",
    "    plt.plot(alps[::n], data[E].values[::n], '.',markersize=12)\n",
    "\n",
    "plt.rc('axes', labelsize=label) #fontsize of the x and y labels\n",
    "plt.rc('xtick', labelsize=label) #fontsize of the x tick labels\n",
    "plt.rc('ytick', labelsize=label) #fontsize of the y tick labels\n",
    "#plt.plot(alps, data['3'].values, '.')\n",
    "#lt.ylim(0,7)\n",
    "plt.show()"
   ]
  },
  {
   "cell_type": "code",
   "execution_count": null,
   "id": "74a8c1eb-1412-48e9-9ff5-caac60d0c7ff",
   "metadata": {},
   "outputs": [],
   "source": []
  }
 ],
 "metadata": {
  "kernelspec": {
   "display_name": "Python 3 (ipykernel)",
   "language": "python",
   "name": "python3"
  },
  "language_info": {
   "codemirror_mode": {
    "name": "ipython",
    "version": 3
   },
   "file_extension": ".py",
   "mimetype": "text/x-python",
   "name": "python",
   "nbconvert_exporter": "python",
   "pygments_lexer": "ipython3",
   "version": "3.9.7"
  }
 },
 "nbformat": 4,
 "nbformat_minor": 5
}
