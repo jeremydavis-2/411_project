{
 "cells": [
  {
   "cell_type": "code",
   "execution_count": 1,
   "id": "b8aeffc4-a45b-4b2c-a310-09dd9c5406dd",
   "metadata": {},
   "outputs": [],
   "source": [
    "import matplotlib as plt\n",
    "import numpy as np\n",
    "import pandas as pd\n",
    "import os"
   ]
  },
  {
   "cell_type": "code",
   "execution_count": null,
   "id": "37e14971-050d-4de4-bcbd-11f58ea45bf8",
   "metadata": {},
   "outputs": [],
   "source": [
    "# Example\n",
    "outDirs = []\n",
    "for root, dirs, files in os.walk('.'):\n",
    "    if 'stab_ee'in root and 'outputs' in root:\n",
    "        outDirs.append(root)"
   ]
  }
 ],
 "metadata": {
  "kernelspec": {
   "display_name": "Python 3 (ipykernel)",
   "language": "python",
   "name": "python3"
  },
  "language_info": {
   "codemirror_mode": {
    "name": "ipython",
    "version": 3
   },
   "file_extension": ".py",
   "mimetype": "text/x-python",
   "name": "python",
   "nbconvert_exporter": "python",
   "pygments_lexer": "ipython3",
   "version": "3.9.7"
  }
 },
 "nbformat": 4,
 "nbformat_minor": 5
}
