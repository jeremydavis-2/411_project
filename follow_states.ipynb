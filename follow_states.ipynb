{
 "cells": [
  {
   "cell_type": "code",
   "execution_count": 1,
   "id": "6ba05048-8820-40f5-b0f2-f6267bd37952",
   "metadata": {},
   "outputs": [],
   "source": [
    "import matplotlib\n",
    "import matplotlib.pyplot as plt\n",
    "import matplotlib.cm as cm\n",
    "import numpy as np\n",
    "import pandas as pd\n",
    "import os\n",
    "matplotlib.use('Qt5Agg')\n",
    "%matplotlib qt5"
   ]
  },
  {
   "cell_type": "code",
   "execution_count": 2,
   "id": "7646cd7f-4b9e-40b0-98b4-0a7436cfd76d",
   "metadata": {},
   "outputs": [
    {
     "name": "stdout",
     "output_type": "stream",
     "text": [
      "0 ./h_ethylene/stab_ee/10z_DZ+2p+keywords/g-2.5/outputs\n",
      "1 ./h_ethylene/stab_ee/10z_DZ+2p+keywords/g-3.5/outputs\n",
      "2 ./h_ethylene/stab_ee/3z_DZ+2p+keywords/g-2.5/outputs\n",
      "3 ./h_ethylene/stab_ee/3z_DZ+2p+keywords/g-3.5/outputs\n",
      "4 ./h_ethylene/stab_ee/3z_DZ+2p+keywords/g-3.5/outputs/.ipynb_checkpoints\n",
      "5 ./oh_ethylene/stab_ee/optz_DZ+2p+keywords_B2/g-2.5/outputs\n",
      "6 ./oh_ethylene/stab_ee/optz_DZ+2p+keywords_B2/outputs\n",
      "7 ./oh_ethylene/stab_ee/10z_DZ+2p+keywords_B2/outputs\n",
      "8 ./oh_ethylene/stab_ee/other_symms/optz_DZ+2p+keywords_B1/outputs\n",
      "9 ./oh_ethylene/stab_ee/other_symms/10z_DZ+2p+keywords_A1/outputs\n",
      "10 ./oh_ethylene/stab_ee/other_symms/optz_TZ+2p+keywords_A2/outputs\n",
      "11 ./oh_ethylene/stab_ee/other_symms/optz_DZ+2p+keywords_A2/outputs\n",
      "12 ./oh_ethylene/stab_ee/5z_DZ+2p+keywords_B2/outputs\n",
      "13 ./oh_ethylene/stab_ee/optz_DZ+1p+keywords_B2/outputs\n",
      "14 ./oh_ethylene/stab_ee/optz_DZ+4p+keywords_B2/outputs\n",
      "15 ./oh_ethylene/stab_ee/optz_DZ+3p+keywords_B2/outputs\n"
     ]
    }
   ],
   "source": [
    "outDirs = []\n",
    "for root, dirs, files in os.walk('.'):\n",
    "    if 'stab_ee'in root and 'outputs' in root:\n",
    "        outDirs.append(root)\n",
    "        \n",
    "for i, Dir in enumerate(outDirs):\n",
    "    print(i,Dir)"
   ]
  },
  {
   "cell_type": "code",
   "execution_count": 3,
   "id": "d5e9bc46-5104-4622-ae58-e9860596b909",
   "metadata": {},
   "outputs": [],
   "source": [
    "def is_state_naive(pattern, M_block, tol=0.1):\n",
    "    truths=[]\n",
    "    \n",
    "    for i in pattern: # iterate over all atoms in the pattern\n",
    "        q = float(M_block[i[0]-1].split()[5]) #del q (preserves sign)\n",
    "        if i[1]-tol <= q <= i[1]+tol:         #does this work correctly for pos and neg numbers? yes.\n",
    "            truths.append(bool(True))    #return true if atom n fits patterns\n",
    "        else:\n",
    "            truths.append(bool(False))   #or not\n",
    "    \n",
    "    \n",
    "    if all(truths): #if every atom fits pattern, return true\n",
    "        return True\n",
    "    else:\n",
    "        return False\n",
    "\n",
    "\n",
    "def readfile(filename):\n",
    "    f = open(filename, 'r')\n",
    "    lines = f.readlines()\n",
    "    f.close()\n",
    "    return lines"
   ]
  },
  {
   "cell_type": "markdown",
   "id": "28ebcaf7-7526-46c2-8b50-7ecea78455ee",
   "metadata": {},
   "source": [
    "# Naive $$q-tol\\le q_{0} \\le q+tol$$"
   ]
  },
  {
   "cell_type": "code",
   "execution_count": 4,
   "id": "c0355dbf-e122-4c2b-915d-a4b8eadf07c8",
   "metadata": {},
   "outputs": [
    {
     "name": "stdout",
     "output_type": "stream",
     "text": [
      "./oh_ethylene/stab_ee/optz_DZ+2p+keywords_B2/outputs\n",
      "(41, 12)\n",
      "        L         z         0         1         2         3         4  \\\n",
      "0  2.4694  0.636364  1.348699  1.749591  1.930578  2.820829  3.546807   \n",
      "1  2.1704  0.678788  1.410712  1.833634  2.000029  2.903365  3.634412   \n",
      "2  1.9225  0.721212  1.472543  1.915825  2.064399  2.983204  3.713133   \n",
      "3  1.7149  0.763636  1.534401  1.996109  2.124044  3.060031  3.784987   \n",
      "4  1.5391  0.806061  1.596478  2.074415  2.179342  3.133488  3.851631   \n",
      "\n",
      "          5         6         7         8         9  \n",
      "0  3.795749  4.680245  5.507099  5.596592  5.641564  \n",
      "1  3.985649  4.719501  5.544042  5.669577  5.758070  \n",
      "2  4.167909  4.753696  5.576807  5.741452  5.883771  \n",
      "3  4.337214  4.791382  5.605610  5.812443  6.015826  \n",
      "4  4.480365  4.848552  5.630682  5.882656  6.152384  \n"
     ]
    }
   ],
   "source": [
    "#debug section\n",
    "E2q = 33 #lines from Excitation energy line to first atom in Mulliken pop\n",
    "tol = 0.1\n",
    "\n",
    "\n",
    "#choose these, section\n",
    "path = outDirs[6] #outfiles\n",
    "atoms = 8 # number of atoms in molecule counting from 1\n",
    "pattern = [(1,-0.5),(2,-0.5),(7,0.88),(8,0.12)] #[(atom #,charge)]\n",
    "\n",
    "\n",
    "pat_alps = []\n",
    "pat_Es = []\n",
    "\n",
    "files = os.listdir(path)\n",
    "files.sort()\n",
    "print(path)\n",
    "\n",
    "#does sts fit tolerance: yes/no\n",
    "for file in files:\n",
    "    lines = readfile(os.path.join(path,file))\n",
    "    for i, line in enumerate(lines):\n",
    "        if 'Excitation energy:' in line:\n",
    "            #print(lines[i+E2q:i+E2q+atoms])\n",
    "            if is_state_naive(pattern,lines[i+E2q:i+E2q+atoms],tol): # if Mulliken block matches pattern\n",
    "                pat_alps.append(float(file[6:]))\n",
    "                pat_Es.append(float(line.split()[2]))\n",
    "\n",
    "\n",
    "# now plot it\n",
    "data = pd.read_csv(path[:-8]+'/stab_data.csv', delim_whitespace = True)\n",
    "print(np.shape(data))\n",
    "print(data.head())\n",
    "\n",
    "alps = data['z'].values\n",
    "E_labels=data.columns[2:]\n",
    "plt.cla()\n",
    "plt.xlabel('alp')\n",
    "plt.ylabel('E')\n",
    "for E in E_labels:\n",
    "    plt.plot(alps, data[E].values, '.')\n",
    "plt.plot(pat_alps, pat_Es, 'ro')\n",
    "#lt.ylim(0,7)\n",
    "plt.show()"
   ]
  },
  {
   "cell_type": "markdown",
   "id": "18811dbc-6b42-461f-9af1-fc0ea39b94ae",
   "metadata": {},
   "source": [
    "# Other Stuff\n",
    "* sum dist\n",
    "* avg dist\n",
    "* ratio"
   ]
  },
  {
   "cell_type": "code",
   "execution_count": 6,
   "id": "277fc194-33b0-4811-8dc4-bc52a0993433",
   "metadata": {},
   "outputs": [],
   "source": [
    "def state_fit(pattern, M_block):\n",
    "    \n",
    "    fit = 0\n",
    "    dist = []\n",
    "    for i in pattern: # iterate over all atoms in the pattern\n",
    "        q = float(M_block[i[0]-1].split()[5]) #del q (preserves sign)\n",
    "        #print(i,q)\n",
    "        \n",
    "        #dist sum\n",
    "        # fit += abs(i[1]-q)\n",
    "        \n",
    "        #dist avg\n",
    "        dist.append(abs(i[1]-q))\n",
    "    fit = sum(dist)/len(dist)\n",
    "    \n",
    "        #dist ratio sum thing\n",
    "    #     Sum += q/i[1]\n",
    "    # fit = Sum/len(Sum)\n",
    "        \n",
    "    return round(fit,6)\n",
    "\n",
    "\n",
    "#debug section\n",
    "E2q = 33 #lines from Excitation energy line to first atom in Mulliken pop\n",
    "tol = 0.15\n",
    "\n",
    "\n",
    "#choose these, section\n",
    "path = outDirs[6] #outfiles\n",
    "atoms = 8 # number of atoms in molecule counting from 1\n",
    "pattern = [(1,-0.348512),(2,-0.348512),(7,0.886047),(8,0.087252)] #[(atom #,charge)]\n",
    "files = os.listdir(path)\n",
    "files.sort()\n",
    "files\n",
    "\n",
    "fit_alps = []\n",
    "fit_es = []\n",
    "fit_fit = []\n",
    "#fit_plot([alps],[Es],[fit])\n",
    "for i,file in enumerate(files):\n",
    "    lines = readfile(os.path.join(path,file))\n",
    "    for j, line in enumerate(lines):\n",
    "        if 'Excitation energy:' in line:\n",
    "            fit_alps.append(float(file[6:]))\n",
    "            fit_es.append(float(lines[j].split()[2]))\n",
    "            fit_fit.append(state_fit(pattern,lines[j+E2q:j+E2q+atoms]))\n",
    "\n",
    "plt.cla()\n",
    "plt.xlabel('alp')\n",
    "plt.ylabel('E')\n",
    "plt.scatter(fit_alps, fit_es, c=fit_fit, cmap=cm.Greys_r)\n",
    "plt.colorbar()\n",
    "plt.show()"
   ]
  },
  {
   "cell_type": "code",
   "execution_count": null,
   "id": "2230dba2-1f3d-444d-83e6-460873d826b2",
   "metadata": {},
   "outputs": [],
   "source": []
  }
 ],
 "metadata": {
  "kernelspec": {
   "display_name": "Python 3 (ipykernel)",
   "language": "python",
   "name": "python3"
  },
  "language_info": {
   "codemirror_mode": {
    "name": "ipython",
    "version": 3
   },
   "file_extension": ".py",
   "mimetype": "text/x-python",
   "name": "python",
   "nbconvert_exporter": "python",
   "pygments_lexer": "ipython3",
   "version": "3.9.7"
  }
 },
 "nbformat": 4,
 "nbformat_minor": 5
}
