{
 "cells": [
  {
   "cell_type": "code",
   "execution_count": 1,
   "id": "6ba05048-8820-40f5-b0f2-f6267bd37952",
   "metadata": {},
   "outputs": [],
   "source": [
    "import matplotlib\n",
    "import matplotlib.pyplot as plt\n",
    "import numpy as np\n",
    "import pandas as pd\n",
    "import os\n",
    "matplotlib.use('Qt5Agg')"
   ]
  },
  {
   "cell_type": "code",
   "execution_count": 11,
   "id": "88ac97bb-d8cb-44b2-a33e-31eaf21a1a74",
   "metadata": {},
   "outputs": [],
   "source": [
    "# outDir = 'oh_ethylene/stab_ee/10z_DZ+2p+keywords_B2/outputs'\n",
    "# files = os.listdir(outDir)"
   ]
  },
  {
   "cell_type": "code",
   "execution_count": 2,
   "id": "7646cd7f-4b9e-40b0-98b4-0a7436cfd76d",
   "metadata": {},
   "outputs": [
    {
     "data": {
      "text/plain": [
       "['./h_ethylene/stab_ee/10z_DZ+2p+keywords/g-2.5/outputs',\n",
       " './h_ethylene/stab_ee/10z_DZ+2p+keywords/g-3.5/outputs',\n",
       " './oh_ethylene/stab_ee/optz_DZ+2p+keywords_B2/g-2.5/outputs',\n",
       " './oh_ethylene/stab_ee/optz_DZ+2p+keywords_B2/outputs',\n",
       " './oh_ethylene/stab_ee/10z_DZ+2p+keywords_B2/outputs',\n",
       " './oh_ethylene/stab_ee/10z_DZ+2p+keywords_B2/outputs/.ipynb_checkpoints',\n",
       " './oh_ethylene/stab_ee/other_symms/optz_DZ+2p+keywords_B1/outputs',\n",
       " './oh_ethylene/stab_ee/other_symms/10z_DZ+2p+keywords_A1/outputs',\n",
       " './oh_ethylene/stab_ee/other_symms/optz_TZ+2p+keywords_A2/outputs',\n",
       " './oh_ethylene/stab_ee/other_symms/optz_DZ+2p+keywords_A2/outputs',\n",
       " './oh_ethylene/stab_ee/5z_DZ+2p+keywords_B2/outputs',\n",
       " './oh_ethylene/stab_ee/optz_DZ+1p+keywords_B2/outputs',\n",
       " './oh_ethylene/stab_ee/optz_DZ+4p+keywords_B2/outputs',\n",
       " './oh_ethylene/stab_ee/optz_DZ+3p+keywords_B2/outputs']"
      ]
     },
     "execution_count": 2,
     "metadata": {},
     "output_type": "execute_result"
    }
   ],
   "source": [
    "outDirs = []\n",
    "for root, dirs, files in os.walk('.'):\n",
    "    if 'stab_ee'in root and 'outputs' in root:\n",
    "        outDirs.append(root)\n",
    "outDirs"
   ]
  },
  {
   "cell_type": "code",
   "execution_count": 4,
   "id": "d5e9bc46-5104-4622-ae58-e9860596b909",
   "metadata": {},
   "outputs": [],
   "source": [
    "def is_state(pattern, M_block, tol=0.1):\n",
    "    truths=[]\n",
    "    \n",
    "    for i in pattern: # iterate over all atoms in the pattern\n",
    "        q = float(M_block[i[0]-1].split()[5]) #del q (preserves sign)\n",
    "        if i[1]-tol <= q <= i[1]+tol:         #does this work correctly for pos and neg numbers? yes.\n",
    "            truths.append(bool(True))    #return true if atom n fits patterns\n",
    "        else:\n",
    "            truths.append(bool(False))   #or not\n",
    "    \n",
    "    \n",
    "    if all(truths): #if every atom fits pattern, return true\n",
    "        return True\n",
    "    else:\n",
    "        return False\n",
    "\n",
    "\n",
    "def readfile(filename):\n",
    "    f = open(filename, 'r')\n",
    "    lines = f.readlines()\n",
    "    f.close()\n",
    "    return lines"
   ]
  },
  {
   "cell_type": "code",
   "execution_count": 5,
   "id": "f552780d-348f-4b46-9c5a-4629ec9bdecd",
   "metadata": {},
   "outputs": [],
   "source": [
    "path = outDirs[1]\n",
    "files = os.listdir(path)\n",
    "files.sort()\n",
    "#print(files)\n",
    "\n",
    "E2q = 33 #lines from Excitation energy line to first atom in Mulliken\n",
    "pattern = [(1,-0.5),(2,-0.5),(7,1)] #[(atom #,charge)]\n",
    "tol = 0.1\n",
    "atoms = 7 # number of atoms in molecule counting from 1\n",
    "\n",
    "pat_alps = []\n",
    "pat_Es = []\n",
    "\n",
    "for file in files:\n",
    "    lines = readfile(os.path.join(path,file))\n",
    "    for i, line in enumerate(lines):\n",
    "        if 'Excitation energy:' in line:\n",
    "            #print(lines[i+E2q+atoms-1])\n",
    "            if is_state(pattern,lines[i+E2q:i+E2q+atoms]): # if Mulliken block matches pattern\n",
    "                pat_alps.append(float(file[6:]))\n",
    "                pat_Es.append(line.split()[2])"
   ]
  },
  {
   "cell_type": "code",
   "execution_count": 6,
   "id": "c0355dbf-e122-4c2b-915d-a4b8eadf07c8",
   "metadata": {},
   "outputs": [
    {
     "name": "stdout",
     "output_type": "stream",
     "text": [
      "(40, 12)\n",
      "        L         z         0         1         2         3         4  \\\n",
      "0  0.3265  1.750000  1.511045  3.268735  5.794144  6.328527  6.552492   \n",
      "1  0.3415  1.711111  1.496254  3.205340  5.698882  6.258134  6.482928   \n",
      "2  0.2754  1.905556  1.563603  3.522390  6.197385  6.585615  6.827322   \n",
      "3  0.6881  1.205556  1.192667  2.409359  4.559765  5.173473  5.410265   \n",
      "4  0.5102  1.400000  1.342465  2.706674  4.985477  5.616878  5.899392   \n",
      "\n",
      "          5         6         7         8         9  \n",
      "0  7.048122  7.839322  7.973195  8.611214  8.835199  \n",
      "1  6.926405  7.762713  7.959939  8.514639  8.739467  \n",
      "2  7.534085  8.037777  8.135536  8.984115  9.225823  \n",
      "3  5.499853  6.656562  7.104419  7.225381  7.532888  \n",
      "4  5.972869  7.107130  7.708474  7.879059  7.992339  \n"
     ]
    }
   ],
   "source": [
    "\n",
    "#Now plot all of these points on top of the scatter plot of stabilization data\n",
    "\n",
    "data = pd.read_csv(path[:-8]+'/stab_data.csv', delim_whitespace = True)\n",
    "print(np.shape(data))\n",
    "print(data.head())\n",
    "\n",
    "alps = data['z'].values\n",
    "E_labels=data.columns[2:]\n",
    "plt.cla()\n",
    "plt.xlabel('alp')\n",
    "plt.ylabel('E')\n",
    "for E in E_labels:\n",
    "    plt.plot(alps, data[E].values, '.')\n",
    "plt.ylim(0,7)\n",
    "plt.show()"
   ]
  },
  {
   "cell_type": "code",
   "execution_count": null,
   "id": "d2d7b483-effd-48e8-9522-de883b2a9a4c",
   "metadata": {},
   "outputs": [],
   "source": [
    "def main():\n",
    "        Dir = str(sys.argv[1])\n",
    "        rname = str(sys.argv[2])\n",
    "        alps=[]\n",
    "        print(\"L z 0 1 2 3 4 5\")\n",
    "        for item in os.listdir(Dir):\n",
    "                path = os.path.join(Dir,item)\n",
    "                if os.path.isfile(path) and rname in path:\n",
    "                        Es, e_size,h_size = get_roots(path)\n",
    "                        print(str(round(float(item[6:])**-2,4)),item[6:],*Es,sep=' ')\n",
    "\n",
    "\n",
    "def get_roots(path):\n",
    "    Es = []\n",
    "    e_size = []\n",
    "    h_size = []\n",
    "    lines = readfile(path)\n",
    "    for i, line in enumerate(lines):\n",
    "        if \"Excitation energy:\" in line:\n",
    "                #print(lines[i+5]),\n",
    "                Es.append(lines[i].split()[2])\n",
    "        if False:\n",
    "            h_size.append(lines[i+58].split())\n",
    "        #    e_size.append(lines[i+58].split()[3])\n",
    "\n",
    "    return(Es,e_size, h_size)\n",
    "\n",
    "def readfile(filename):\n",
    "    f = open(filename, 'r')\n",
    "    lines = f.readlines()\n",
    "    f.close()\n",
    "    return lines\n",
    "\n",
    "if __name__ == \"__main__\":\n",
    "    main()\n"
   ]
  },
  {
   "cell_type": "code",
   "execution_count": 98,
   "id": "4da19604-c6fd-43fc-adbd-bd316c2add1b",
   "metadata": {},
   "outputs": [
    {
     "data": {
      "text/plain": [
       "['1', 'C', '-0.687942', '0.095376', '-0.590106', '-0.494730']"
      ]
     },
     "execution_count": 98,
     "metadata": {},
     "output_type": "execute_result"
    }
   ],
   "source": [
    "str1 = '1 C       -0.687942        0.095376       -0.590106       -0.494730'\n",
    "str1.split()"
   ]
  },
  {
   "cell_type": "code",
   "execution_count": 123,
   "id": "9b132a4e-d9fa-42ed-a44c-26239e27ab3b",
   "metadata": {},
   "outputs": [
    {
     "data": {
      "text/plain": [
       "True"
      ]
     },
     "execution_count": 123,
     "metadata": {},
     "output_type": "execute_result"
    }
   ],
   "source": [
    "ttt = [True,True,True]\n",
    "ttf = [True,True,False]\n",
    "fff = [False,False,False]\n",
    "\n",
    "all(ttt)"
   ]
  },
  {
   "cell_type": "code",
   "execution_count": 136,
   "id": "485e747f-4534-44ba-a357-45d5aec7573c",
   "metadata": {},
   "outputs": [
    {
     "name": "stdout",
     "output_type": "stream",
     "text": [
      "True\n",
      "True\n",
      "True\n"
     ]
    }
   ],
   "source": [
    "pattern = [(1,-0.5),(2,-0.5),(7,1)] #[(atom #,charge)]\n",
    "tol = 0.1\n",
    "# if pattern-tol <= q <= pattern+tol:\n",
    "\n",
    "# (1,-0.5)\n",
    "# (2,-0.5)\n",
    "# (7,1)\n",
    "q1 = -0.494730\n",
    "q2 = -0.494730\n",
    "q3 = 1.005828\n",
    "\n",
    "# Atom      Charge (e)              h+              e-           Del q\n",
    "#   --------------------------------------------------------------------\n",
    "#    1 C       -0.687942        0.095376       -0.590106       -0.494730\n",
    "#    2 C       -0.687942        0.095376       -0.590106       -0.494730\n",
    "#    3 H        0.082526        0.001746       -0.011385       -0.009638\n",
    "#    4 H        0.082526        0.001746       -0.011385       -0.009638\n",
    "#    5 H        0.073299        0.003065       -0.001611        0.001454\n",
    "#    6 H        0.073299        0.003065       -0.001611        0.001454\n",
    "#    7 H        0.064235        1.056963       -0.051135        1.005828\n",
    "#   --------------------------------------------------------------------\n",
    "#   Sum:       -1.000000        1.257338       -1.257338        0.000000\n",
    "\n",
    "print(-0.5 - tol <= q1 <= -0.5 + tol)\n",
    "print(-0.5 - tol <= q2 <= -0.5 + tol)\n",
    "print(1 - tol <= q3 <= 1 + tol)"
   ]
  },
  {
   "cell_type": "code",
   "execution_count": 1,
   "id": "9544f540-9c17-441f-95cf-d1218e09a2e1",
   "metadata": {},
   "outputs": [
    {
     "name": "stdout",
     "output_type": "stream",
     "text": [
      "Help on package PyQt5:\n",
      "\n",
      "NAME\n",
      "    PyQt5\n",
      "\n",
      "PACKAGE CONTENTS\n",
      "    Qt\n",
      "    QtBluetooth\n",
      "    QtCore\n",
      "    QtDBus\n",
      "    QtDesigner\n",
      "    QtGui\n",
      "    QtHelp\n",
      "    QtLocation\n",
      "    QtMultimedia\n",
      "    QtMultimediaWidgets\n",
      "    QtNetwork\n",
      "    QtNfc\n",
      "    QtOpenGL\n",
      "    QtPositioning\n",
      "    QtPrintSupport\n",
      "    QtQml\n",
      "    QtQuick\n",
      "    QtQuickWidgets\n",
      "    QtSensors\n",
      "    QtSerialPort\n",
      "    QtSql\n",
      "    QtSvg\n",
      "    QtTest\n",
      "    QtWebChannel\n",
      "    QtWebEngine\n",
      "    QtWebEngineCore\n",
      "    QtWebEngineWidgets\n",
      "    QtWebSockets\n",
      "    QtWidgets\n",
      "    QtX11Extras\n",
      "    QtXml\n",
      "    QtXmlPatterns\n",
      "    pylupdate\n",
      "    pyrcc\n",
      "    sip\n",
      "\n",
      "FILE\n",
      "    (built-in)\n",
      "\n",
      "\n"
     ]
    }
   ],
   "source": [
    "help('PyQt5')"
   ]
  },
  {
   "cell_type": "code",
   "execution_count": null,
   "id": "a90ab9e2-4ae5-4e2b-b38e-1fc9332487d7",
   "metadata": {},
   "outputs": [],
   "source": []
  }
 ],
 "metadata": {
  "kernelspec": {
   "display_name": "Python 3 (ipykernel)",
   "language": "python",
   "name": "python3"
  },
  "language_info": {
   "codemirror_mode": {
    "name": "ipython",
    "version": 3
   },
   "file_extension": ".py",
   "mimetype": "text/x-python",
   "name": "python",
   "nbconvert_exporter": "python",
   "pygments_lexer": "ipython3",
   "version": "3.9.7"
  }
 },
 "nbformat": 4,
 "nbformat_minor": 5
}
